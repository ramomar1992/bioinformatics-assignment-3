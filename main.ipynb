{
 "cells": [
  {
   "cell_type": "code",
   "execution_count": 131,
   "metadata": {},
   "outputs": [
    {
     "name": "stdout",
     "output_type": "stream",
     "text": [
      "69469\n"
     ]
    }
   ],
   "source": [
    "# Import Fasta from pyfaidx in a python script\n",
    "from pyfaidx import Fasta\n",
    "\n",
    "global DNA_codons \n",
    "DNA_codons = {\n",
    "        'GCA':'A', 'GCC':'A',\n",
    "        'GCG':'A', 'GCT':'A',\n",
    "        'TGC':'C', 'TGT':'C',\n",
    "        'GAC':'D', 'GAT':'D',\n",
    "        'GAA':'E', 'GAG':'E',\n",
    "        'TTC':'F', 'TTT':'F',\n",
    "        'GGA':'G', 'GGC':'G',\n",
    "        'GGG':'G', 'GGT':'G',\n",
    "        'CAC':'H', 'CAT':'H',\n",
    "        'ATA':'I', 'ATC':'I',\n",
    "        'ATT':'I', 'AAA':'K',\n",
    "        'AAG':'K', 'TTA':'L',\n",
    "        'TTG':'L', 'CTA':'L',\n",
    "        'CTC':'L', 'CTG':'L',\n",
    "        'CTT':'L', 'ATG':'M',\n",
    "        'AAC':'N', 'AAT':'N',\n",
    "        'CCA':'P', 'CCC':'P', \n",
    "        'CCG':'P', 'CCT':'P',\n",
    "        'CAA':'Q', 'CAG':'Q',\n",
    "        'CGA':'R', 'CGC':'R', \n",
    "        'CGG':'R', 'CGT':'R', \n",
    "        'AGA':'R', 'AGG':'R',\n",
    "        'TCA':'S', 'TCC':'S', \n",
    "        'TCG':'S', 'TCT':'S', \n",
    "        'AGC':'S', 'AGT':'S',\n",
    "        'ACA':'T', 'ACC':'T', \n",
    "        'ACG':'T', 'ACT':'T',\n",
    "        'GTA':'V', 'GTC':'V', \n",
    "        'GTG':'V', 'GTT':'V',\n",
    "        'TGG':'W', 'TAC':'Y', \n",
    "        'TAT':'Y', 'TGA':'_', \n",
    "        'TAA':'_', 'TAG':'_'\n",
    "    }\n",
    "# Read in the fasta file genes.fasta into the variable ‘genes’\n",
    "genes = Fasta('genes.fasta')\n",
    "print(len(genes))"
   ]
  },
  {
   "cell_type": "code",
   "execution_count": 132,
   "metadata": {},
   "outputs": [],
   "source": [
    "# Define a function that takes in a DNA sequence and returns the GC content of the sequence\n",
    "def GC_content(dna_seq):\n",
    "    gene_str = str(dna_seq)\n",
    "    return { dna_seq.name : ((gene_str.count('G') + gene_str.count('C')) / len(gene_str) ) * 100}"
   ]
  },
  {
   "cell_type": "code",
   "execution_count": 133,
   "metadata": {},
   "outputs": [
    {
     "name": "stdout",
     "output_type": "stream",
     "text": [
      "[{'gi|563317589|dbj|AB821309.1|': 50.74074074074074}, {'gi|557361099|gb|KF435150.1|': 44.07484407484408}, {'gi|557361097|gb|KF435149.1|': 43.30218068535825}, {'gi|543583796|ref|NR_104216.1|': 37.765143232014}, {'gi|543583795|ref|NR_104215.1|': 37.84088771863833}, {'gi|543583794|ref|NR_104212.1|': 37.90472646073688}, {'gi|543583788|ref|NM_001282545.1|': 37.194244604316545}, {'gi|543583786|ref|NM_001282543.1|': 37.943651664837176}, {'gi|543583785|ref|NM_000465.3|': 38.00470758645664}, {'gi|543583740|ref|NM_001282549.1|': 37.04819277108434}, {'gi|543583738|ref|NM_001282548.1|': 37.101872112813034}, {'gi|530384540|ref|XM_005249645.1|': 65.7703488372093}, {'gi|530384538|ref|XM_005249644.1|': 65.5792276964048}, {'gi|530384536|ref|XM_005249643.1|': 65.84110646510132}, {'gi|530384534|ref|XM_005249642.1|': 65.87019696480465}, {'gi|530373237|ref|XM_005265508.1|': 59.77093772369363}, {'gi|530373235|ref|XM_005265507.1|': 59.86657303370787}, {'gi|530364726|ref|XR_241081.1|': 45.490584737363726}, {'gi|530364725|ref|XR_241080.1|': 49.385749385749385}, {'gi|530364724|ref|XR_241079.1|': 42.53281305427456}]\n"
     ]
    }
   ],
   "source": [
    "gc_content_all_genes = [GC_content(gene) for gene in genes]\n",
    "print(gc_content_all_genes)"
   ]
  },
  {
   "cell_type": "code",
   "execution_count": 134,
   "metadata": {},
   "outputs": [],
   "source": [
    "# Define a function that takes in a DNA sequence and initial position and returns a protein sequence in the initial position reading frame\n",
    "def dna_to_aa(seq, init_pos=0):\n",
    "    sequance = str(seq)\n",
    "    protein = [DNA_codons[sequance[pos:pos + 3]] for pos in range(init_pos, len(seq)-2, 3)]\n",
    "    protein = ''.join(protein)\n",
    "    print(f\"The protein sequence in reading frame {init_pos+1} is {protein}\")\n",
    "    return protein"
   ]
  },
  {
   "cell_type": "code",
   "execution_count": 135,
   "metadata": {},
   "outputs": [
    {
     "name": "stdout",
     "output_type": "stream",
     "text": [
      "CCCCGCCCCTCTGGCGGCCCGCCGTCCCAGACGCGGGAAGAGCTTGGCCGGTTTCGAGTCGCTGGCCTGCAGCTTCCCTGTGGTTTCCCGAGGCTTCCT\n"
     ]
    }
   ],
   "source": [
    "# Set the variable ‘dna’ to the first 99 base pairs of the gi|543583786|ref|NM_001282543.1| sequence\n",
    "dna = genes['gi|543583786|ref|NM_001282543.1|'][:99]\n",
    "print(dna)"
   ]
  },
  {
   "cell_type": "code",
   "execution_count": 136,
   "metadata": {},
   "outputs": [
    {
     "name": "stdout",
     "output_type": "stream",
     "text": [
      "{'gi|543583786|ref|NM_001282543.1|': 70.70707070707071}\n"
     ]
    }
   ],
   "source": [
    "# Calculate GC content of the ‘dna’ sequence\n",
    "dna_gc_contet = GC_content(dna)\n",
    "print(dna_gc_contet)"
   ]
  },
  {
   "cell_type": "code",
   "execution_count": 138,
   "metadata": {},
   "outputs": [
    {
     "name": "stdout",
     "output_type": "stream",
     "text": [
      "The protein sequence in reading frame 1 is PRPSGGPPSQTREELGRFRVAGLQLPCGFPRLP\n"
     ]
    }
   ],
   "source": [
    "# Set the variable ‘protein’ to the protein sequence of ‘dna’, use your defined function to get the protein sequence\n",
    "protein = dna_to_aa(dna)"
   ]
  },
  {
   "cell_type": "code",
   "execution_count": 141,
   "metadata": {},
   "outputs": [
    {
     "name": "stdout",
     "output_type": "stream",
     "text": [
      "{'P': 7, 'R': 5, 'S': 2, 'G': 5, 'Q': 2, 'T': 1, 'E': 2, 'L': 4, 'F': 2, 'V': 1, 'A': 1, 'C': 1}\n"
     ]
    }
   ],
   "source": [
    "# Use a for loop to calculate the aa content of each amino acid in ‘protein’\n",
    "aa_content = {}\n",
    "for aa in protein:\n",
    "    if aa in aa_content:\n",
    "        aa_content[aa]+=1\n",
    "    else:\n",
    "        aa_content[aa] = 1\n",
    "print(aa_content)"
   ]
  }
 ],
 "metadata": {
  "interpreter": {
   "hash": "b0fa6594d8f4cbf19f97940f81e996739fb7646882a419484c72d19e05852a7e"
  },
  "kernelspec": {
   "display_name": "Python 3.9.10 64-bit",
   "language": "python",
   "name": "python3"
  },
  "language_info": {
   "codemirror_mode": {
    "name": "ipython",
    "version": 3
   },
   "file_extension": ".py",
   "mimetype": "text/x-python",
   "name": "python",
   "nbconvert_exporter": "python",
   "pygments_lexer": "ipython3",
   "version": "3.9.10"
  },
  "orig_nbformat": 4
 },
 "nbformat": 4,
 "nbformat_minor": 2
}
